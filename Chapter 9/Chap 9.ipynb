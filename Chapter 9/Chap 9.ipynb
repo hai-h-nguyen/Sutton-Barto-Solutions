{
 "cells": [
  {
   "cell_type": "markdown",
   "metadata": {},
   "source": [
    "## Ex 9.1\n",
    "David Silver pointed it out in here https://www.youtube.com/watch?v=UoPei5o4fps (starting from 28.43)\n",
    "\n",
    "## Ex 9.3\n",
    "Using $x_i(s) = \\prod_{j=1}^k s_j^{c_{i,j}}$. In this case, $k=2$\n",
    "\n",
    "$x_0(s)=1$ therefore $c_{0,1}=c_{0,2}=0$\n",
    "\n",
    "$x_1(s)=s_1$ therefore $c_{1,1}=1, c_{1,2}=0$\n",
    "\n",
    "$x_2(s)=s_2$ therefore $c_{2,1}=0, c_{0,2}=1$\n",
    "\n",
    "$x_3(s)=s_1^2$ therefore $c_{3,1}=2, c_{0,2}=0$\n",
    "\n",
    "$x_4(s)=s_2^2$ therefore $c_{4,1}=0, c_{0,2}=2$\n",
    "\n",
    "$x_5(s)=s_1s_2^2$ therefore $c_{5,1}=1, c_{0,2}=2$\n",
    "\n",
    "$x_6(s)=s_1^2s_2$ therefore $c_{6,1}=2, c_{0,2}=1$\n",
    "\n",
    "$x_7(s)=s_1^2s_2^2$ therefore $c_{7,1}=c_{0,2}=2$\n",
    "\n",
    "$n=2$"
   ]
  }
 ],
 "metadata": {
  "kernelspec": {
   "display_name": "Python 3",
   "language": "python",
   "name": "python3"
  },
  "language_info": {
   "codemirror_mode": {
    "name": "ipython",
    "version": 3
   },
   "file_extension": ".py",
   "mimetype": "text/x-python",
   "name": "python",
   "nbconvert_exporter": "python",
   "pygments_lexer": "ipython3",
   "version": "3.5.2"
  }
 },
 "nbformat": 4,
 "nbformat_minor": 2
}
