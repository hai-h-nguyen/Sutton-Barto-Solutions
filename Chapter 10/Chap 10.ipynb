{
 "cells": [
  {
   "cell_type": "markdown",
   "metadata": {},
   "source": [
    "## Ex 10.1\n",
    "The update for MC will be $w_{t+1} = w_t + \\alpha[G_t - \\hat{q}(S_t,A_t,w_t)]\\nabla \\hat{q}(S_t,A_t,w_t)$. It is not reasonable to give pseudocode for MC methods because they does not really fit for one-step update such as TD methods and Sarsa. Because, in order to have $G_t$ to update $w$, we would need to wait to the end of the epsiode. I would say it perform worse because the update for $w$ will be much slower because we need to wait till the end of the episode to collect $G_t$. Another disadvantage is that $G_t$ will have high variances even it is unbiased, which might make the problem even worse. \n",
    "\n",
    "## Ex 10.2\n",
    "Loop for each episode\n",
    "$S$, $A$: initial state and action of episode using $\\epsilon$-greedy\n",
    "    Loop for each step of episode:        \n",
    "        Take action $A$, observe $R$, $S'$.\n",
    "        <br/>If $S'$ is terminal:\n",
    "            <br/>$w \\leftarrow w + \\alpha[R - \\hat{q}(S,A,w)]\\nabla \\hat{q}(S,A,w)$\n",
    "            <br/> Go to the next episode\n",
    "        <br/> $w \\leftarrow w + \\alpha[R + \\gamma((1-\\epsilon + \\frac{\\epsilon}{|A|})\\max_{A'} \\hat{q}(S',.,w) + \\frac{\\epsilon}{|A|}\\sum_{\\text{non greedy actions}} \\hat{q}(S',A',w)) - \\hat{q}(S,A,w)]\\nabla \\hat{q}(S,A,w)$\n",
    "        <br/> S $\\leftarrow$ S'\n",
    "        <br/> A $\\leftarrow$ A'"
   ]
  },
  {
   "cell_type": "code",
   "execution_count": null,
   "metadata": {},
   "outputs": [],
   "source": []
  }
 ],
 "metadata": {
  "kernelspec": {
   "display_name": "Python 3",
   "language": "python",
   "name": "python3"
  },
  "language_info": {
   "codemirror_mode": {
    "name": "ipython",
    "version": 3
   },
   "file_extension": ".py",
   "mimetype": "text/x-python",
   "name": "python",
   "nbconvert_exporter": "python",
   "pygments_lexer": "ipython3",
   "version": "3.5.2"
  }
 },
 "nbformat": 4,
 "nbformat_minor": 2
}
