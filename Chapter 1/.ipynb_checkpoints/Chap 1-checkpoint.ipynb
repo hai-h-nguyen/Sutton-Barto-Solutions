{
 "cells": [
  {
   "cell_type": "markdown",
   "metadata": {},
   "source": [
    "## Ex 1.1 \n",
    "Self-play Suppose, instead of playing against a random opponent, the reinforcement learning algorithm described above played against itself, with both sides learning. What do you think would happen in this case? Would it learn a different policy for selecting moves?\n",
    "\n",
    "This is what Alpha Zero was trained. In this case, I think the agent will improve itself in terms of both attack and defense strategies by self-correction. It will learn a different policy as the opponent is now itself with different ways of playing. Eventually, when the agent becomes much better, the game will most likely lead to a draw.\n",
    "\n",
    "## Ex 1.2 \n",
    "Symmetries Many tic-tac-toe positions appear di↵erent but are really the same because of symmetries. How might we amend the learning process described above to take advantage of this? In what ways would this change improve the learning process? Now think again. Suppose the opponent did not take advantage of symmetries. In that case, should we? Is it true, then, that symmetrically equivalent positions should necessarily have the same value?\n",
    "\n",
    "We might take advantage of the symmetry by have a different way of representing states to reduce the state space. As many combinations of action + previous positions of the board will lead to the same board configurations, we can just use this final configurations to be the state. As the state space is less, the learning process my become better. \n",
    "\n",
    "\n"
   ]
  },
  {
   "cell_type": "code",
   "execution_count": null,
   "metadata": {},
   "outputs": [],
   "source": []
  }
 ],
 "metadata": {
  "kernelspec": {
   "display_name": "Python 3",
   "language": "python",
   "name": "python3"
  },
  "language_info": {
   "codemirror_mode": {
    "name": "ipython",
    "version": 3
   },
   "file_extension": ".py",
   "mimetype": "text/x-python",
   "name": "python",
   "nbconvert_exporter": "python",
   "pygments_lexer": "ipython3",
   "version": "3.5.2"
  }
 },
 "nbformat": 4,
 "nbformat_minor": 2
}
