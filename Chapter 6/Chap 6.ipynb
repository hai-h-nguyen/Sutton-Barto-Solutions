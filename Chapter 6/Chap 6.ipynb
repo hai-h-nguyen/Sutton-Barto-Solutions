{
 "cells": [
  {
   "cell_type": "markdown",
   "metadata": {},
   "source": [
    "## Ex 6.2\n",
    "When moving to a new building, with MC approach, we would need to learn from the start everything (learn estimates of each state again). However, with TD approach, we can reuse some knowledge, for instance, the estimate time you need in the highway. Because even when you move to the new building, you still need to go home through the highway so this state is the same as previously. This makes the TD approach more efficient."
   ]
  },
  {
   "cell_type": "code",
   "execution_count": null,
   "metadata": {},
   "outputs": [],
   "source": []
  },
  {
   "cell_type": "code",
   "execution_count": null,
   "metadata": {},
   "outputs": [],
   "source": []
  }
 ],
 "metadata": {
  "kernelspec": {
   "display_name": "Python 3",
   "language": "python",
   "name": "python3"
  },
  "language_info": {
   "codemirror_mode": {
    "name": "ipython",
    "version": 3
   },
   "file_extension": ".py",
   "mimetype": "text/x-python",
   "name": "python",
   "nbconvert_exporter": "python",
   "pygments_lexer": "ipython3",
   "version": "3.5.2"
  }
 },
 "nbformat": 4,
 "nbformat_minor": 2
}
