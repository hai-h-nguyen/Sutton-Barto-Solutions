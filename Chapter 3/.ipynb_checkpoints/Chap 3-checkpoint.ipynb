{
 "cells": [
  {
   "cell_type": "markdown",
   "metadata": {},
   "source": [
    "## Ex 3.12\n",
    "Give an equation for $v_{\\pi}$ in terms of $q_{\\pi}$ and $\\pi$.\n",
    "\n",
    "$V_\\pi(s) = \\mathbb{E}_{a \\sim \\pi}[Q(s,a)] = \\sum_a \\pi(a|s)Q(s,a)$\n",
    "\n",
    "## Ex 3.13\n",
    "Give an equation for  $q_{\\pi}$ in terms of  $v_{\\pi}$ and the four-argument $p$.\n",
    "\n",
    "$Q_\\pi(s,a) = \\mathbb{E}_{s' \\sim P}(r + \\gamma V(s')) = \\sum_{s',r} p(s', r|s,a) (r + \\gamma V(s'))$\n",
    "\n",
    "## Exercise 3.15\n",
    "Add a constant $c$ to all rewards:\n",
    "\n",
    "$V'(s) = \\mathbb{E}[R_{t+1} + c + \\gamma(R_{t+2} + c) $"
   ]
  },
  {
   "cell_type": "code",
   "execution_count": null,
   "metadata": {},
   "outputs": [],
   "source": []
  },
  {
   "cell_type": "code",
   "execution_count": null,
   "metadata": {},
   "outputs": [],
   "source": []
  }
 ],
 "metadata": {
  "kernelspec": {
   "display_name": "Python 3",
   "language": "python",
   "name": "python3"
  },
  "language_info": {
   "codemirror_mode": {
    "name": "ipython",
    "version": 3
   },
   "file_extension": ".py",
   "mimetype": "text/x-python",
   "name": "python",
   "nbconvert_exporter": "python",
   "pygments_lexer": "ipython3",
   "version": "3.5.2"
  }
 },
 "nbformat": 4,
 "nbformat_minor": 2
}
