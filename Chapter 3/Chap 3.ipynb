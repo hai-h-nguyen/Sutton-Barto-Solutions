{
 "cells": [
  {
   "cell_type": "markdown",
   "metadata": {},
   "source": [
    "## Ex 3.12\n",
    "Give an equation for $v_{\\pi}$ in terms of $q_{\\pi}$ and $\\pi$.\n",
    "\n",
    "$V_\\pi(s) = \\mathbb{E}_{a \\sim \\pi}[Q(s,a)] = \\sum_a \\pi(a|s)Q(s,a)$\n",
    "\n",
    "## Ex 3.13\n",
    "Give an equation for  $q_{\\pi}$ in terms of  $v_{\\pi}$ and the four-argument $p$.\n",
    "\n",
    "$Q_\\pi(s,a) = \\mathbb{E}_{s' \\sim P}(r + \\gamma V(s')) = \\sum_{s',r} p(s', r|s,a) (r + \\gamma V(s'))$\n",
    "\n",
    "## Ex 3.14\n",
    "0.7 = 0.25 * (1(0 + 0.9 * 2.3) + 1(0 + 0.9*0.4) + 1 (0 + 0.9 * -0.4) + 1(0 + 0.9 * 0.7)]\n",
    "\n",
    "## Ex 3.15\n",
    "Add a constant $c$ to all rewards:\n",
    "\n",
    "$V'(s) = \\mathbb{E}[R_{t+1} + c + \\gamma(R_{t+2} + c) + ... |S_t = s] = v(s) + v_c$ with $v_c = c \\sum_{k=0}^\\infty \\gamma^k = \\frac{c}{1-\\gamma}$\n",
    "\n",
    "## Ex 3.16\n",
    "This might change the policy as the added value for $V(s)$ can depend on the length of the episode before the episode is terminated. For example, when giving 0 reward for each step, the agent will keep running around as in excercise 3.7. However, when add a constant reward of -1 for each step, the agent will try to escape the maze faster. Decreasing the reward even more might encourage the agent to go to ther terminal state as fast as it could as if it keeps living, it gest a lot of negative rewards.\n",
    "\n",
    "## Ex 3.17\n",
    "$q_\\pi(s,a) = \\sum_{s',r}p(s',r|s,a)(r + \\gamma \\mathbb{E} [q_\\pi(s',a')]) = \\sum_{s'} p(s'|s,a) (r + \\gamma \\mathbb{E} [q_\\pi(s',a')]$\n",
    "\n",
    "## Ex 3.18\n",
    "$V_\\pi(s) = \\mathbb{E}_{a \\sim \\pi} Q(s,a) = \\sum_a \\pi(a|s) Q(s,a)$\n",
    "\n",
    "## Ex 3.19\n",
    "$q_\\pi(s,a) = \\mathbb{E} [r + \\gamma V(s')] = \\sum_{s',r} p(s',r|s,a) [r + V(s')]$"
   ]
  },
  {
   "cell_type": "code",
   "execution_count": null,
   "metadata": {},
   "outputs": [],
   "source": []
  },
  {
   "cell_type": "code",
   "execution_count": null,
   "metadata": {},
   "outputs": [],
   "source": []
  }
 ],
 "metadata": {
  "kernelspec": {
   "display_name": "Python 3",
   "language": "python",
   "name": "python3"
  },
  "language_info": {
   "codemirror_mode": {
    "name": "ipython",
    "version": 3
   },
   "file_extension": ".py",
   "mimetype": "text/x-python",
   "name": "python",
   "nbconvert_exporter": "python",
   "pygments_lexer": "ipython3",
   "version": "3.5.2"
  }
 },
 "nbformat": 4,
 "nbformat_minor": 2
}
